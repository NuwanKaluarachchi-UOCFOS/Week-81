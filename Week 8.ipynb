{
 "cells": [
  {
   "cell_type": "markdown",
   "metadata": {},
   "source": [
    "# Classes"
   ]
  },
  {
   "cell_type": "code",
   "execution_count": 9,
   "metadata": {
    "collapsed": true
   },
   "outputs": [],
   "source": [
    "class Customer(object):\n",
    "    \"\"\"\n",
    "    Attributes\n",
    "    ------------\n",
    "    name: str\n",
    "        name of the customer\n",
    "        \n",
    "    balance: float\n",
    "        balance money\n",
    "        \n",
    "    Functions\n",
    "    --------\n",
    "    withdraw money\n",
    "    deposit money\n",
    "    \n",
    "    \"\"\"\n",
    "    \n",
    "    def __init__(self, name, balance=0.0):\n",
    "        self.name = name\n",
    "        self.balance = balance\n",
    "        \n",
    "    def withdraw(self, amount):\n",
    "        assert (self.balance - amount > 0), \"Ohpps No Money In the Account\"\n",
    "        self.balance = self.balance - amount\n",
    "        \n",
    "    def deposit(self, amount):\n",
    "        self.balance = self.balance + amount\n",
    "        \n",
    "    "
   ]
  },
  {
   "cell_type": "code",
   "execution_count": 10,
   "metadata": {
    "collapsed": true
   },
   "outputs": [],
   "source": [
    "my_customer_1 = Customer('Anuke', 100000)"
   ]
  },
  {
   "cell_type": "code",
   "execution_count": 3,
   "metadata": {},
   "outputs": [
    {
     "data": {
      "text/plain": [
       "'Anuke'"
      ]
     },
     "execution_count": 3,
     "metadata": {},
     "output_type": "execute_result"
    }
   ],
   "source": [
    "my_customer_1.name\n"
   ]
  },
  {
   "cell_type": "code",
   "execution_count": 6,
   "metadata": {},
   "outputs": [
    {
     "data": {
      "text/plain": [
       "100000"
      ]
     },
     "execution_count": 6,
     "metadata": {},
     "output_type": "execute_result"
    }
   ],
   "source": [
    "my_customer_1.balance"
   ]
  },
  {
   "cell_type": "code",
   "execution_count": 7,
   "metadata": {
    "collapsed": true
   },
   "outputs": [],
   "source": [
    "my_customer_1.withdraw(2500)"
   ]
  },
  {
   "cell_type": "code",
   "execution_count": 8,
   "metadata": {},
   "outputs": [
    {
     "data": {
      "text/plain": [
       "97500"
      ]
     },
     "execution_count": 8,
     "metadata": {},
     "output_type": "execute_result"
    }
   ],
   "source": [
    "my_customer_1.balance"
   ]
  },
  {
   "cell_type": "code",
   "execution_count": 11,
   "metadata": {},
   "outputs": [
    {
     "ename": "AssertionError",
     "evalue": "Ohpps No Money In the Account",
     "output_type": "error",
     "traceback": [
      "\u001b[1;31m---------------------------------------------------------------------------\u001b[0m",
      "\u001b[1;31mAssertionError\u001b[0m                            Traceback (most recent call last)",
      "\u001b[1;32m<ipython-input-11-62e95c2e7d57>\u001b[0m in \u001b[0;36m<module>\u001b[1;34m()\u001b[0m\n\u001b[1;32m----> 1\u001b[1;33m \u001b[0mmy_customer_1\u001b[0m\u001b[1;33m.\u001b[0m\u001b[0mwithdraw\u001b[0m\u001b[1;33m(\u001b[0m\u001b[1;36m2000000\u001b[0m\u001b[1;33m)\u001b[0m\u001b[1;33m\u001b[0m\u001b[0m\n\u001b[0m",
      "\u001b[1;32m<ipython-input-9-effa77277be9>\u001b[0m in \u001b[0;36mwithdraw\u001b[1;34m(self, amount)\u001b[0m\n\u001b[0;32m     21\u001b[0m \u001b[1;33m\u001b[0m\u001b[0m\n\u001b[0;32m     22\u001b[0m     \u001b[1;32mdef\u001b[0m \u001b[0mwithdraw\u001b[0m\u001b[1;33m(\u001b[0m\u001b[0mself\u001b[0m\u001b[1;33m,\u001b[0m \u001b[0mamount\u001b[0m\u001b[1;33m)\u001b[0m\u001b[1;33m:\u001b[0m\u001b[1;33m\u001b[0m\u001b[0m\n\u001b[1;32m---> 23\u001b[1;33m         \u001b[1;32massert\u001b[0m \u001b[1;33m(\u001b[0m\u001b[0mself\u001b[0m\u001b[1;33m.\u001b[0m\u001b[0mbalance\u001b[0m \u001b[1;33m-\u001b[0m \u001b[0mamount\u001b[0m \u001b[1;33m>\u001b[0m\u001b[1;36m0\u001b[0m\u001b[1;33m)\u001b[0m\u001b[1;33m,\u001b[0m \u001b[1;34m\"Ohpps No Money In the Account\"\u001b[0m\u001b[1;33m\u001b[0m\u001b[0m\n\u001b[0m\u001b[0;32m     24\u001b[0m         \u001b[0mself\u001b[0m\u001b[1;33m.\u001b[0m\u001b[0mbalance\u001b[0m \u001b[1;33m=\u001b[0m \u001b[0mself\u001b[0m\u001b[1;33m.\u001b[0m\u001b[0mbalance\u001b[0m \u001b[1;33m-\u001b[0m \u001b[0mamount\u001b[0m\u001b[1;33m\u001b[0m\u001b[0m\n\u001b[0;32m     25\u001b[0m \u001b[1;33m\u001b[0m\u001b[0m\n",
      "\u001b[1;31mAssertionError\u001b[0m: Ohpps No Money In the Account"
     ]
    }
   ],
   "source": [
    "my_customer_1.withdraw(2000000)"
   ]
  },
  {
   "cell_type": "code",
   "execution_count": 12,
   "metadata": {},
   "outputs": [
    {
     "data": {
      "text/plain": [
       "100000"
      ]
     },
     "execution_count": 12,
     "metadata": {},
     "output_type": "execute_result"
    }
   ],
   "source": [
    "my_customer_1.balance"
   ]
  },
  {
   "cell_type": "markdown",
   "metadata": {},
   "source": [
    "# Simulation Example Again"
   ]
  },
  {
   "cell_type": "code",
   "execution_count": 14,
   "metadata": {
    "collapsed": true
   },
   "outputs": [],
   "source": [
    "import random\n",
    "import simpy\n",
    "import numpy as np"
   ]
  },
  {
   "cell_type": "code",
   "execution_count": 17,
   "metadata": {},
   "outputs": [],
   "source": [
    "NUM_STATIONs = 3\n",
    "NUM_INITIAL_CARS = 3\n",
    "WASHTIME = 15\n",
    "T_INTER = 7\n",
    "SIM_TIME = 120\n",
    "\n",
    "class CarWash(object):\n",
    "    \n",
    "    def __init__(self, env, station_num, washtime):\n",
    "        self.env = env\n",
    "        self.station = simpy.Resource(env, station_num)\n",
    "        self.washtime = washtime\n",
    "        \n",
    "    def wash(self, car):\n",
    "        yield self.env.timeout(self.washtime)\n",
    "        \n",
    "def customer (env, name, carwash):\n",
    "    print('{} arrives at the Thummulla Car Wash at {}'.format(name, env.now))\n",
    "    \n",
    "    with carwash.station.requaest() as requaest:\n",
    "        yield request\n",
    "        print ('{} Enter the Car Wash at {}'.format(name, env.now))\n",
    "        yield env.process(carwash.wash(name))\n",
    "        print ('{{} leaves the car wash at {}}'.format(name, env.now))\n",
    "        \n",
    "def set_up (env, start_cars, num_stations, washtime, t_inter):\n",
    "        carwash = CarWash(env, num_stations, washtime)\n",
    "        for i in range(start_cars):\n",
    "            env.process(customer(env, 'car {}'.format(i), carwash))\n",
    "            \n",
    "        while True:\n",
    "            yield env.timeout(np.random.exponential(t_inter))\n",
    "            i+= 1\n",
    "            env.process(customer(env, 'car{}'.format(i), carwash))"
   ]
  },
  {
   "cell_type": "code",
   "execution_count": null,
   "metadata": {
    "collapsed": true
   },
   "outputs": [],
   "source": []
  }
 ],
 "metadata": {
  "kernelspec": {
   "display_name": "Python 3",
   "language": "python",
   "name": "python3"
  },
  "language_info": {
   "codemirror_mode": {
    "name": "ipython",
    "version": 3
   },
   "file_extension": ".py",
   "mimetype": "text/x-python",
   "name": "python",
   "nbconvert_exporter": "python",
   "pygments_lexer": "ipython3",
   "version": "3.6.1"
  }
 },
 "nbformat": 4,
 "nbformat_minor": 2
}
